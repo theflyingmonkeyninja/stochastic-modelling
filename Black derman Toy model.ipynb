{
 "cells": [
  {
   "cell_type": "markdown",
   "metadata": {},
   "source": [
    "##### This file describes how Black derman toy model of interst rate is obtained and then subsequently used to price options on bonds\n"
   ]
  },
  {
   "cell_type": "markdown",
   "metadata": {},
   "source": [
    "The Black Derman Toy model is used to price bonds and interest rate models. It is a one factor model and has the following dynamics:  \n",
    "$d\\ln(r)= \\{\\theta(t)+\\dot{\\sigma}/{\\sigma}\\ln(r)\\}dt+\\sigma(t)dW$"
   ]
  },
  {
   "cell_type": "code",
   "execution_count": 7,
   "metadata": {},
   "outputs": [],
   "source": [
    "import numpy as np\n",
    "import matplotlib.pyplot as plt\n",
    "import pandas as pd"
   ]
  },
  {
   "cell_type": "code",
   "execution_count": 8,
   "metadata": {},
   "outputs": [],
   "source": [
    "def BlackDermanToyInterestRate(ZCRates,ZCVol,ParVal):\n",
    "    # this function computes the short rate for BDT model\n",
    "    # MatPeriod is years to maturity of Zero coupon Bond\n",
    "    # ZCRate is the zero coupon rate in %\n",
    "    # ZCVol is the zero coupon Volatility in %\n",
    "    # FVal face value of ZC-Bond\n",
    "    \n",
    "    treelength = len(ZCRates); # length of the binomial tree\n",
    "    \n",
    "    ZCBPrice =  np.zeros(treelength+1);# array for Zero coupon bond price\n",
    "    \n",
    "    # computing price of Zero Coupon Bond\n",
    "    for i in range(treelength+1):\n",
    "        ZCBPrice[i] = ParVal/(1+ZCRates[i-1])**i;\n",
    "        \n",
    "    SRate = np.zeros([treelength,treelength]);# matrix of short rate \n",
    "   \n",
    "    ZCBPrice = ZCBPrice[1:];\n",
    "      \n",
    "    SRate[0,0] = ZCRates[0];\n",
    "     \n",
    "    for i in range(1,treelength):\n",
    "        \n",
    "        guess = 0.0787\n",
    "        bsum = 0\n",
    "        \n",
    "    \n",
    "        while bsum!=ZCBPrice[i]:\n",
    "            \n",
    "            Sigma = np.exp(2*ZCVol[i]); \n",
    "            bsum = 0;\n",
    "            \n",
    "            if  i==1:\n",
    "                Dfact =1;\n",
    "            elif i==2:\n",
    "                Dfact = np.prod(SRate[0,:]+1);\n",
    "            else:\n",
    "                for k in range(i-2):\n",
    "                    Dfact = np.prod(SRate[k,:]+1);\n",
    "            \n",
    "            \n",
    "            for j in range(treelength):\n",
    "                if j<i:\n",
    "                    bsum = bsum +(0.5**i*ParVal/(1+guess*Sigma**j)+0.5**i*ParVal/(1+guess*Sigma**(j+1)))/(Dfact*(1+SRate[i-1,j]))    \n",
    "                  \n",
    "                else:\n",
    "                    break;\n",
    "                    \n",
    "              # guessing for bisection method check this part     \n",
    "            if (bsum-ZCBPrice[i])<0.01:\n",
    "                SRate[i,j] = guess;\n",
    "                break;\n",
    "            elif bsum<ZCBPrice[i]:\n",
    "                guess = guess+2*(1/bsum-1/ZCBPrice[i]);\n",
    "            elif bsum>ZCBPrice[i]:\n",
    "                guess = guess-2*(1/ZCBPrice[i]-1/bsum);\n",
    "           \n",
    "        length = j+1;\n",
    "        Temp = np.zeros(length); \n",
    "        m = j;\n",
    "        \n",
    "        for k in range(length):            \n",
    "            Temp[k] = SRate[i,j]*Sigma**m;\n",
    "            m = m-1\n",
    "        \n",
    "        Temp = np.flip(Temp);\n",
    "        \n",
    "        for j in range(treelength):\n",
    "            if j<i+1:\n",
    "                SRate[i,j] = Temp[j];\n",
    "            else:\n",
    "                break;\n",
    "                \n",
    "    \n",
    "    return SRate;      \n"
   ]
  },
  {
   "cell_type": "code",
   "execution_count": 9,
   "metadata": {},
   "outputs": [],
   "source": [
    "ZCRates = np.array( [9,9.5,10,10.5,11]);\n",
    "ZCRates = ZCRates/100;\n",
    "ZCVol = np.array([24,22,20,18,16]);\n",
    "ZCVol = ZCVol/100;\n",
    "ParVal = 100\n",
    "SRate = BlackDermanToyInterestRate(ZCRates,ZCVol,ParVal);"
   ]
  },
  {
   "cell_type": "code",
   "execution_count": 10,
   "metadata": {},
   "outputs": [
    {
     "name": "stdout",
     "output_type": "stream",
     "text": [
      "[[0.09       0.         0.         0.         0.        ]\n",
      " [0.0787     0.12219806 0.         0.         0.        ]\n",
      " [0.0787     0.1174066  0.17515007 0.         0.        ]\n",
      " [0.0787     0.11280302 0.16168389 0.23174628 0.        ]\n",
      " [0.0787     0.10837996 0.14925305 0.20554051 0.28305555]]\n"
     ]
    }
   ],
   "source": [
    "print (SRate)"
   ]
  },
  {
   "cell_type": "code",
   "execution_count": null,
   "metadata": {},
   "outputs": [],
   "source": [
    "def BondPriceStructure(SRate,ParVal):\n",
    "    # this function computes the bond price strutrure for the given short rate tree\n",
    "    \n",
    "    (d1,d2) = np.size(SRate);\n",
    "    \n",
    "    BPrice = np.zeros([d1,d2]);\n",
    "    BPrice[:,d2] = ParVal\n",
    "    \n",
    "    for i in range(d2,-1,0):\n",
    "        for j in range(d1):\n",
    "            BPrice[i-1,j] = BPrice[i,j]/(1+SRate[i,j]);\n",
    "   \n",
    "    return BPrice"
   ]
  },
  {
   "cell_type": "code",
   "execution_count": null,
   "metadata": {},
   "outputs": [],
   "source": [
    "def OptionPricingBDT(BPrice,SRate,StrikePrice,Callablity):\n",
    "    # this function computes the price of the embeded option on the bond\n",
    "    \n",
    "    (d1,d2) = np.size(BPRice);\n",
    "    OptionPayoff = Max(BPrice-StrikePrice,0);\n",
    "    \n",
    "    OptionPrice = np.zeros([d1,d2]);\n",
    "    \n",
    "    for i in range(d1,-1,0):\n",
    "        for j in range(d2):\n",
    "            OPtionPrice[:,j] = (0.5*OptionPayoff[i+1,j]+0.5*OptionPayoff[i,j])/(1+SRate[i-1,j]) \n",
    "            \n",
    "    return OptionPrice"
   ]
  },
  {
   "cell_type": "code",
   "execution_count": null,
   "metadata": {},
   "outputs": [],
   "source": [
    "# The following lines of code compute the required OAD\n",
    "def CallableBondPrice(ZCRates,ZCVol,ParVal,StrikePrice,Callabality):\n",
    "    \n",
    "    SRate = BlackDermanToyInterestRate(ZCRates,ZCVol,ParVal);\n",
    "    \n",
    "    BPrice = BondPriceStructure(SRate,ParVal);\n",
    "    \n",
    "    OptionPrice = OptionPricingBDT(BPrice,SRate,StrikePrice,Callablity);\n",
    "    \n",
    "    CBPrice = BPrice - OptionPrice;\n",
    "    \n",
    "    return CBPRice;"
   ]
  },
  {
   "cell_type": "code",
   "execution_count": null,
   "metadata": {},
   "outputs": [],
   "source": [
    "# define paramateres\n",
    "\n",
    "# get the callabale bond price\n",
    "\n",
    "# Bond price with the interest rate stressed Up\n",
    "\n",
    "# Bond price with the interest rate stressed Down\n",
    "\n",
    "# computing OAD\n",
    "\n",
    "\n",
    "\n"
   ]
  },
  {
   "cell_type": "code",
   "execution_count": null,
   "metadata": {},
   "outputs": [],
   "source": []
  }
 ],
 "metadata": {
  "kernelspec": {
   "display_name": "Python 3",
   "language": "python",
   "name": "python3"
  },
  "language_info": {
   "codemirror_mode": {
    "name": "ipython",
    "version": 3
   },
   "file_extension": ".py",
   "mimetype": "text/x-python",
   "name": "python",
   "nbconvert_exporter": "python",
   "pygments_lexer": "ipython3",
   "version": "3.8.3"
  }
 },
 "nbformat": 4,
 "nbformat_minor": 4
}
